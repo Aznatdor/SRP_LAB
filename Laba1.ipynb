{
  "nbformat": 4,
  "nbformat_minor": 0,
  "metadata": {
    "colab": {
      "provenance": []
    },
    "kernelspec": {
      "name": "python3",
      "display_name": "Python 3"
    },
    "language_info": {
      "name": "python"
    }
  },
  "cells": [
    {
      "cell_type": "markdown",
      "source": [
        "Підключаємо модулі для роботи з даними"
      ],
      "metadata": {
        "id": "XWsWl0nnsqeS"
      }
    },
    {
      "cell_type": "code",
      "execution_count": null,
      "metadata": {
        "colab": {
          "base_uri": "https://localhost:8080/"
        },
        "id": "KslhC9lOnHH5",
        "outputId": "7f0d61a7-2711-4339-ab44-685eb8f34048"
      },
      "outputs": [
        {
          "output_type": "stream",
          "name": "stdout",
          "text": [
            "Looking in indexes: https://pypi.org/simple, https://us-python.pkg.dev/colab-wheels/public/simple/\n",
            "Requirement already satisfied: urllib3 in /usr/local/lib/python3.7/dist-packages (1.24.3)\n"
          ]
        }
      ],
      "source": [
        "!pip install urllib3 #might be useful"
      ]
    },
    {
      "cell_type": "code",
      "source": [
        "import pandas as pd\n",
        "import numpy as np\n",
        "import urllib3\n",
        "from datetime import datetime\n",
        "urllib3.disable_warnings()"
      ],
      "metadata": {
        "id": "g51OLjrhwv7o"
      },
      "execution_count": null,
      "outputs": []
    },
    {
      "cell_type": "markdown",
      "source": [
        "Реалізуємо функцію, що буде завантажувати дані за номером області й називати файл відповідним чином, та функцію, що буде створювати датафрейм з відповідними даними."
      ],
      "metadata": {
        "id": "mOj14FLts2KF"
      }
    },
    {
      "cell_type": "code",
      "source": [
        "def load_data_VHI(region_ID): #downloads 'Area-Avegaed' and 'Percentage-Of-Area' data\n",
        "  id_correction = [22, 24, 23, 25, 3, 4, 8, 19, 20, 21, 9, 26, 10, 11, 12, 13, 14, 15, 16, 27, 17, 18, 6, 1, 2, 7, 5]\n",
        "  path = f\"https://www.star.nesdis.noaa.gov/smcd/emb/vci/VH/get_TS_admin.php?country=UKR&provinceID={region_ID}&year1=1981&year2=2022&type=Mean\"\n",
        "  http = urllib3.PoolManager()\n",
        "  req = http.request(\"GET\", path, preload_content=False)\n",
        "  region_ID = id_correction[region_ID-1]\n",
        "  date = datetime.now().strftime(\"%d-%m-%Y_%H-%M-%S\")\n",
        "  filepath_VHI = f'vhi_id={region_ID}_{date}.csv' #'Area-Avegaed' data filepath\n",
        "  out = open(filepath_VHI,'wb')\n",
        "  out.write(req.read())\n",
        "  out.close()\n",
        "  path = f\"https://www.star.nesdis.noaa.gov/smcd/emb/vci/VH/get_TS_admin.php?country=UKR&provinceID={region_ID}&year1=1981&year2=2022&type=VHI_Parea\"\n",
        "  req = http.request(\"GET\", path, preload_content=False)  \n",
        "  filepath_VHI_area = f'vhi_area_id={region_ID}_{date}.csv'\n",
        "  out = open(filepath_VHI_area,'wb')\n",
        "  out.write(req.read())\n",
        "  out.close()\n",
        "  return filepath_VHI, filepath_VHI_area\n",
        "\n",
        "def VHI_dataframe(filepath, *, only_VHI=False):\n",
        "  df = pd.read_csv(filepath,index_col=False, header=1) #'Area-Avegaed' dataframe\n",
        "  df.rename(columns={' SMN': 'SMN', ' VHI<br>' : 'VHI'}, inplace=True) #hardcode\n",
        "  if only_VHI: #if we interested only in VHI data with dates, of course\n",
        "    return df.iloc[:,[0,1,6]]\n",
        "  return df\n",
        "\n",
        "def VHI_area_dataframe(filepath):\n",
        "  name = ['year', 'week', '[0 5)', '[5 10)', '[10 15)', '[15 20)', '[20 25)', '[25 30)', '[30 35)', '[35 40)', '[40 45)', '[45 50)', '[50 55)', '[55 60)', '[60 65)', '[65 70)', '[70 75)', '[75 80)', '[80 85)', '[85 90)', '[90 95)','[95, 100)' , '[>=100]']\n",
        "  df = pd.read_csv(filepath,index_col=False, on_bad_lines='skip', header = 2, names = name)\n",
        "  df.iloc[0, 0] = '1982'\n",
        "  df = df.iloc[:, :9] #'Percentage-Of-Area' dataframe (for droughts)\n",
        "  return df"
      ],
      "metadata": {
        "id": "kafmayBMtWZI"
      },
      "execution_count": null,
      "outputs": []
    },
    {
      "cell_type": "markdown",
      "source": [
        "Завантажимо дані обраної області"
      ],
      "metadata": {
        "id": "C8fzxpleHFG2"
      }
    },
    {
      "cell_type": "code",
      "source": [
        "filepath_VHI, filepath_VHI_area = load_data_VHI(3)\n",
        "print(filepath_VHI, filepath_VHI_area, sep='/n')\n",
        "VHI_data = VHI_dataframe(filepath_VHI)\n",
        "VHI_area_data = VHI_area_dataframe(filepath_VHI_area)"
      ],
      "metadata": {
        "colab": {
          "base_uri": "https://localhost:8080/"
        },
        "id": "_8_2qiWY3xIE",
        "outputId": "687cb94a-4e57-4cef-de4a-2a0b19144c69"
      },
      "execution_count": null,
      "outputs": [
        {
          "output_type": "stream",
          "name": "stdout",
          "text": [
            "vhi_id=23_24-10-2022_07-07-52.csv/nvhi_area_id=23_24-10-2022_07-07-52.csv\n"
          ]
        }
      ]
    },
    {
      "cell_type": "markdown",
      "source": [
        "Реалізуємо процедури для формування наступних вибірок:\n",
        "\n",
        "*   Ряд VHI для області за рік, пошук екстремумів (min та max);\n",
        "*   Ряд VHI за всі роки для області, виявити роки з екстремальними\n",
        "  посухами, які торкнулися більше вказаного відсотка області;  \n",
        "* Ряд VHI за всі роки для області, виявити роки з помірними\n",
        "  посухами, які торкнулися більше вказаного відсотка області;"
      ],
      "metadata": {
        "id": "_AFka9RjLPPr"
      }
    },
    {
      "cell_type": "code",
      "source": [
        "def extr(data, year):\n",
        "  index = int(year) - 1982\n",
        "  new_data = data.iloc[index*52 : 52 + index*52]\n",
        "  max, min = 0, 1000\n",
        "  for value in new_data['VHI']:\n",
        "    if value > max:\n",
        "      max = value\n",
        "  for value in new_data['VHI']:\n",
        "    if value < min and value >= 0:\n",
        "      min = value\n",
        "  return min, max\n",
        "\n",
        "def extr_drought(data, percentage):\n",
        "  data = data.iloc[:, :5]\n",
        "  year_list = []\n",
        "  for date in range(len(data)):\n",
        "    area = sum(data.iloc[date, 2:5])\n",
        "    if area > percentage:\n",
        "        year_list.append( ( int(data.iloc[date, 0]), int(data.iloc[date, 1]), f'area={area}'))\n",
        "  return sorted(list(set(year_list)))\n",
        "\n",
        "def modest_drought(data, percentage):\n",
        "  year_list = []\n",
        "  for date in range(len(data)):\n",
        "    area = sum(data.iloc[date, 2:9])\n",
        "    if area > percentage:\n",
        "        year_list.append( ( int(data.iloc[date, 0]), int(data.iloc[date, 1]), f'area={area}'))\n",
        "  return sorted(list(set(year_list)))\n",
        "\n",
        "def get_year(dataframe, year, *, VHI=False):\n",
        "  index = int(year) - 1982\n",
        "  if VHI:\n",
        "    return dataframe.iloc[52*index : 52 + 52*index, [0, 1, 6]]\n",
        "  return dataframe.iloc[52*index : 52 + 52*index]\n",
        "\n",
        "def get_value(dataframe, year, week, *, extr=False):\n",
        "  if extr:\n",
        "    dataframe = dataframe.iloc[:, 0:5]\n",
        "  return dataframe[ (dataframe['year'] == f'{year}') & (dataframe['week'] == np.float64(week))]"
      ],
      "metadata": {
        "id": "3IajPhPRLvk5"
      },
      "execution_count": null,
      "outputs": []
    },
    {
      "cell_type": "markdown",
      "source": [
        "Перевіримо коректнусть роботи функцій.\n",
        "Можемо перевірити це, переглянувши відповідні датафрейми. Почнемо з перевірки коректності знаходження екстремумів за рік"
      ],
      "metadata": {
        "id": "_0jiQGtvHko5"
      }
    },
    {
      "cell_type": "code",
      "source": [
        "print(extr(VHI_data, 1984))\n",
        "print(get_year(VHI_data, 1984, VHI=True))"
      ],
      "metadata": {
        "colab": {
          "base_uri": "https://localhost:8080/"
        },
        "id": "QfJVmZQIP8cf",
        "outputId": "07f9cff7-365e-4c08-88a9-6dbdd491b281"
      },
      "execution_count": null,
      "outputs": [
        {
          "output_type": "stream",
          "name": "stdout",
          "text": [
            "(32.46, 60.82)\n",
            "     year  week    VHI\n",
            "104  1984   1.0  36.80\n",
            "105  1984   2.0  40.06\n",
            "106  1984   3.0  42.65\n",
            "107  1984   4.0  42.73\n",
            "108  1984   5.0  43.61\n",
            "109  1984   6.0  44.38\n",
            "110  1984   7.0  45.23\n",
            "111  1984   8.0  46.32\n",
            "112  1984   9.0  46.10\n",
            "113  1984  10.0  45.68\n",
            "114  1984  11.0  44.05\n",
            "115  1984  12.0  40.87\n",
            "116  1984  13.0  37.62\n",
            "117  1984  14.0  36.26\n",
            "118  1984  15.0  36.40\n",
            "119  1984  16.0  35.38\n",
            "120  1984  17.0  34.87\n",
            "121  1984  18.0  37.96\n",
            "122  1984  19.0  41.04\n",
            "123  1984  20.0  44.63\n",
            "124  1984  21.0  48.36\n",
            "125  1984  22.0  51.36\n",
            "126  1984  23.0  55.17\n",
            "127  1984  24.0  58.55\n",
            "128  1984  25.0  58.71\n",
            "129  1984  26.0  57.59\n",
            "130  1984  27.0  56.18\n",
            "131  1984  28.0  57.31\n",
            "132  1984  29.0  57.70\n",
            "133  1984  30.0  58.11\n",
            "134  1984  31.0  57.55\n",
            "135  1984  32.0  58.87\n",
            "136  1984  33.0  60.82\n",
            "137  1984  34.0  60.43\n",
            "138  1984  35.0  57.23\n",
            "139  1984  36.0  51.89\n",
            "140  1984  37.0  47.16\n",
            "141  1984  38.0  43.04\n",
            "142  1984  39.0  41.26\n",
            "143  1984  40.0  44.09\n",
            "144  1984  41.0  44.61\n",
            "145  1984  42.0  42.72\n",
            "146  1984  43.0  42.47\n",
            "147  1984  44.0  40.78\n",
            "148  1984  45.0  42.62\n",
            "149  1984  46.0  41.93\n",
            "150  1984  47.0  40.33\n",
            "151  1984  48.0  38.16\n",
            "152  1984  49.0  32.46\n",
            "153  1984  50.0  -1.00\n",
            "154  1984  51.0  -1.00\n",
            "155  1984  52.0  -1.00\n"
          ]
        }
      ]
    },
    {
      "cell_type": "markdown",
      "source": [
        "Так, значення менmше за 32.46 і більше за 60.82 немає.\n",
        "Тепер переглянемо один із років, щоб перевірити, чи дійсно в нас відповідну частину тереторії покривав певний тип посухи.\n",
        "\n"
      ],
      "metadata": {
        "id": "9GY0ADVCQMzR"
      }
    },
    {
      "cell_type": "code",
      "source": [
        "print(modest_drought(VHI_area_data, 40)[0])#remove '[0]' to see full list\n",
        "print(get_value(VHI_area_data, 1982, 5))"
      ],
      "metadata": {
        "colab": {
          "base_uri": "https://localhost:8080/"
        },
        "id": "Xtb4JEXtQlTo",
        "outputId": "d3dd0ddb-d42e-4a6e-df29-ea5e51fb76f4"
      },
      "execution_count": null,
      "outputs": [
        {
          "output_type": "stream",
          "name": "stdout",
          "text": [
            "(1982, 5, 'area=54.28')\n",
            "   year  week  [0 5)  [5 10)  [10 15)  [15 20)  [20 25)  [25 30)  [30 35)\n",
            "4  1982   5.0    0.0    0.09     0.56     3.35    10.24    17.32    22.72\n"
          ]
        }
      ]
    },
    {
      "cell_type": "markdown",
      "source": [
        "Так, дійсно, 1982 року 5-ї неделі, наш регіон був більше ніж на 40% покритий помірними посухами.\n",
        "Тепер переіримо для екстремальної посухи."
      ],
      "metadata": {
        "id": "2B3uReFATYNd"
      }
    },
    {
      "cell_type": "code",
      "source": [
        "print(extr_drought(VHI_area_data, 50)) #remove '[0]' to see full list\n",
        "print( get_value(VHI_area_data, 1984, 49))"
      ],
      "metadata": {
        "colab": {
          "base_uri": "https://localhost:8080/"
        },
        "id": "AaJ1a21DTqnd",
        "outputId": "2f76da48-14d9-4a04-d21c-25b0b18179fc"
      },
      "execution_count": null,
      "outputs": [
        {
          "output_type": "stream",
          "name": "stdout",
          "text": [
            "[(1984, 49, 'area=51.86'), (1993, 51, 'area=51.77'), (1993, 52, 'area=51.12'), (2000, 45, 'area=53.17'), (2000, 46, 'area=55.58'), (2000, 47, 'area=53.81999999999999')]\n",
            "     year  week  [0 5)  [5 10)  [10 15)  [15 20)  [20 25)  [25 30)  [30 35)\n",
            "152  1984  49.0  11.45   18.62    21.79    21.14     13.5      5.4     3.07\n"
          ]
        }
      ]
    },
    {
      "cell_type": "markdown",
      "source": [
        "Так, функція нас не обманює: дійсно, 1984 року 46-ї неділі, наш регіон покривала екстремальна посуха більш ніж на 30%."
      ],
      "metadata": {
        "id": "l75gEb5qU39s"
      }
    }
  ]
}